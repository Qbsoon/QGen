{
 "cells": [
  {
   "cell_type": "code",
   "execution_count": null,
   "id": "d4a1c17b",
   "metadata": {},
   "outputs": [],
   "source": [
    "from backend import workflow\n",
    "from imagen_pytorch import Unet, Imagen, ImagenTrainer\n",
    "import torch"
   ]
  },
  {
   "cell_type": "code",
   "execution_count": null,
   "id": "820e18d8",
   "metadata": {},
   "outputs": [],
   "source": [
    "source_directory = 'datasets/dimensi0n/imagenet-256/zebra'\n",
    "using_checkpoint = 'checkpoints/a_model.pt'\n",
    "\n",
    "dataloader = workflow(source_directory)"
   ]
  },
  {
   "cell_type": "code",
   "execution_count": null,
   "id": "bc19cb31",
   "metadata": {},
   "outputs": [],
   "source": [
    "# Imagen & Unets\n",
    "\n",
    "unet1 = Unet(\n",
    "    dim = 32,\n",
    "    cond_dim = 512,\n",
    "    dim_mults = (1, 2, 4, 8),\n",
    "    num_resnet_blocks = 3,\n",
    "    layer_attns = (False, True, True, True)\n",
    ")\n",
    "\n",
    "unet2 = Unet(\n",
    "    dim = 32,\n",
    "    cond_dim = 512,\n",
    "    dim_mults = (1, 2, 4, 8),\n",
    "    num_resnet_blocks = (2, 4, 8, 8),\n",
    "    layer_attns = (False, False, False, True),\n",
    "    layer_cross_attns = (False, False, False, True)\n",
    ")\n",
    "\n",
    "# imagen, which contains the unets above (base unet and super resoluting ones)\n",
    "\n",
    "imagen = Imagen(\n",
    "    unets = (unet1, unet2),\n",
    "    text_encoder_name = 't5-large',\n",
    "    image_sizes = (64, 256),\n",
    "    timesteps = 1000,\n",
    "    cond_drop_prob = 0.1\n",
    ").cuda()"
   ]
  },
  {
   "cell_type": "code",
   "execution_count": null,
   "id": "94a86313",
   "metadata": {},
   "outputs": [],
   "source": [
    "#Preparing imagen, optimizer and trainer\n",
    "\n",
    "imagen.train()\n",
    "trainer = ImagenTrainer(imagen).cuda()\n",
    "\n",
    "optimizer = torch.optim.Adam(imagen.parameters(), lr=1e-4) # Example optimizer, not sure if correct one"
   ]
  },
  {
   "cell_type": "code",
   "execution_count": null,
   "id": "439ad52b",
   "metadata": {},
   "outputs": [],
   "source": [
    "# Load the model\n",
    "\n",
    "trainer.load(using_checkpoint)"
   ]
  },
  {
   "cell_type": "code",
   "execution_count": null,
   "id": "c91808d4",
   "metadata": {},
   "outputs": [],
   "source": [
    "# Code for running the training\n",
    "\n",
    "num_epochs = 1\n",
    "unet_toTrain = 2    # Can't train both unets at the same time, need to save and reload whole code before changing unets\n",
    "\n",
    "#Training in epochs, each unet is trained once in each epoch\n",
    "\n",
    "for epoch in range(num_epochs):\n",
    "    print(f\"Epoch {epoch+1}/{num_epochs}, Training UNet {unet_toTrain}\")\n",
    "    for images_batch, text_embeds_batch in dataloader:\n",
    "        if images_batch.numel() == 0: continue # Skip if batch is empty after filtering\n",
    "\n",
    "        images_batch = images_batch.cuda()\n",
    "        text_embeds_batch = text_embeds_batch.cuda()\n",
    "\n",
    "        optimizer.zero_grad()\n",
    "        loss = trainer(images_batch, text_embeds = text_embeds_batch, unet_number = unet_toTrain)\n",
    "        trainer.update(unet_number = unet_toTrain)\n",
    "        print(f\"Loss: {loss}\")\n",
    "        optimizer.step()"
   ]
  },
  {
   "cell_type": "code",
   "execution_count": null,
   "id": "77c5936a",
   "metadata": {},
   "outputs": [],
   "source": [
    "# Save the model\n",
    "trainer.save(using_checkpoint)"
   ]
  },
  {
   "cell_type": "code",
   "execution_count": null,
   "id": "3f301926",
   "metadata": {},
   "outputs": [],
   "source": [
    "# Generate images\n",
    "\n",
    "images = trainer.sample(texts = [\n",
    "    'two zebras in a field'\n",
    "], cond_scale = 3.)\n",
    "\n",
    "# Code for displaying the generated images\n",
    "\n",
    "import matplotlib.pyplot as plt\n",
    "import torchvision.utils as vutils\n",
    "\n",
    "# Move images tensor to CPU and detach from gradient computation\n",
    "images_cpu = images.cpu().detach()\n",
    "\n",
    "# If your images are normalized to [-1, 1], denormalize them to [0, 1]\n",
    "# images_cpu = (images_cpu + 1) / 2 # Uncomment if you used transforms.Normalize(...)\n",
    "\n",
    "# Clamp values to [0, 1] just in case\n",
    "images_cpu = torch.clamp(images_cpu, 0, 1)\n",
    "\n",
    "# Make a grid of images (rows = number of samples)\n",
    "grid = vutils.make_grid(images_cpu, nrow=len(images_cpu), padding=2, normalize=False) # normalize=False as we clamped\n",
    "\n",
    "# Convert grid tensor to numpy array and transpose dimensions for matplotlib\n",
    "# (C, H, W) -> (H, W, C)\n",
    "np_grid = grid.permute(1, 2, 0).numpy()\n",
    "\n",
    "# Display the grid\n",
    "plt.figure(figsize=(10, 5))\n",
    "plt.imshow(np_grid)\n",
    "plt.axis('off')\n",
    "plt.show()"
   ]
  }
 ],
 "metadata": {
  "kernelspec": {
   "display_name": "Python 3",
   "language": "python",
   "name": "python3"
  },
  "language_info": {
   "codemirror_mode": {
    "name": "ipython",
    "version": 3
   },
   "file_extension": ".py",
   "mimetype": "text/x-python",
   "name": "python",
   "nbconvert_exporter": "python",
   "pygments_lexer": "ipython3",
   "version": "3.11.9"
  }
 },
 "nbformat": 4,
 "nbformat_minor": 5
}
