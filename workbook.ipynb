{
 "cells": [
  {
   "cell_type": "code",
   "execution_count": 2,
   "id": "d4a1c17b",
   "metadata": {},
   "outputs": [
    {
     "data": {
      "application/vnd.jupyter.widget-view+json": {
       "model_id": "00063ff870354465834ba20815cb92c0",
       "version_major": 2,
       "version_minor": 0
      },
      "text/plain": [
       "config.json:   0%|          | 0.00/605 [00:00<?, ?B/s]"
      ]
     },
     "metadata": {},
     "output_type": "display_data"
    }
   ],
   "source": [
    "from backend import workflow\n",
    "from imagen_pytorch import Unet, Imagen, ImagenTrainer\n",
    "import torch\n",
    "from IPython.display import clear_output\n",
    "import gc\n",
    "import time"
   ]
  },
  {
   "cell_type": "code",
   "execution_count": null,
   "id": "c92cbb9a-968e-4226-bf66-11c8c587cfcb",
   "metadata": {},
   "outputs": [
    {
     "name": "stdout",
     "output_type": "stream",
     "text": [
      "Downloading from https://www.kaggle.com/api/v1/datasets/download/dimensi0n/imagenet-256?dataset_version_number=1...\n"
     ]
    },
    {
     "name": "stderr",
     "output_type": "stream",
     "text": [
      "100%|██████████| 7.15G/7.15G [00:37<00:00, 205MB/s] "
     ]
    },
    {
     "name": "stdout",
     "output_type": "stream",
     "text": [
      "Extracting files...\n"
     ]
    },
    {
     "name": "stderr",
     "output_type": "stream",
     "text": [
      "\n"
     ]
    }
   ],
   "source": [
    "from download_dataset import update_datasets\n",
    "update_datasets()"
   ]
  },
  {
   "cell_type": "code",
   "execution_count": null,
   "id": "ddc1d507-d9d9-4535-947b-f5c98dc7530a",
   "metadata": {},
   "outputs": [],
   "source": [
    "from backend import create_captions\n",
    "create_captions('datasets/datasets/dimensi0n/imagenet-256')"
   ]
  },
  {
   "cell_type": "code",
   "execution_count": null,
   "id": "820e18d8",
   "metadata": {},
   "outputs": [],
   "source": [
    "source_directory = 'datasets/datasets/dimensi0n/imagenet-256'\n",
    "using_checkpoint = 'checkpoints/a_model.pt'\n",
    "\n",
    "dataloader = workflow(source_directory)"
   ]
  },
  {
   "cell_type": "code",
   "execution_count": null,
   "id": "bc19cb31",
   "metadata": {},
   "outputs": [],
   "source": [
    "# Imagen & Unets\n",
    "\n",
    "unet1 = Unet(\n",
    "    dim = 32,\n",
    "    cond_dim = 512,\n",
    "    dim_mults = (1, 2, 4, 8),\n",
    "    num_resnet_blocks = 3,\n",
    "    layer_attns = (False, True, True, True)\n",
    ")\n",
    "\n",
    "unet2 = Unet(\n",
    "    dim = 32,\n",
    "    cond_dim = 512,\n",
    "    dim_mults = (1, 2, 4, 8),\n",
    "    num_resnet_blocks = (2, 4, 8, 8),\n",
    "    layer_attns = (False, False, False, True),\n",
    "    layer_cross_attns = (False, False, False, True)\n",
    ")\n",
    "\n",
    "# imagen, which contains the unets above (base unet and super resoluting ones)\n",
    "\n",
    "imagen = Imagen(\n",
    "    unets = (unet1, unet2),\n",
    "    text_encoder_name = 't5-large',\n",
    "    image_sizes = (64, 256),\n",
    "    timesteps = 1000,\n",
    "    cond_drop_prob = 0.1\n",
    ").cuda()"
   ]
  },
  {
   "cell_type": "code",
   "execution_count": 4,
   "id": "94a86313",
   "metadata": {},
   "outputs": [],
   "source": [
    "#Preparing imagen and trainer\n",
    "\n",
    "imagen.train()\n",
    "trainer = ImagenTrainer(imagen, use_ema=False).cuda()\n",
    "trainer.train()\n",
    "clear_output()"
   ]
  },
  {
   "cell_type": "code",
   "execution_count": 5,
   "id": "439ad52b",
   "metadata": {},
   "outputs": [],
   "source": [
    "# Load the model\n",
    "\n",
    "trainer.load(using_checkpoint)\n",
    "clear_output()"
   ]
  },
  {
   "cell_type": "code",
   "execution_count": null,
   "id": "c91808d4",
   "metadata": {},
   "outputs": [],
   "source": [
    "# Code for running the training\n",
    "\n",
    "num_epochs = 120\n",
    "unet_toTrain = 2    # Can't train both unets at the same time, need to save checkpoint and re-initiate the trainer when changing unets  z\n",
    "\n",
    "#Training in epochs, each unet is trained once in each epoch\n",
    "losses = 0\n",
    "for epoch in range(num_epochs):\n",
    "    clear_output()\n",
    "    print(f\"Epoch {epoch+1}/{num_epochs}, Training UNet {unet_toTrain}, Prev epoch avg loss: {losses/len(dataloader)}\")\n",
    "    losses = 0\n",
    "    for images_batch, text_embeds_batch in dataloader:\n",
    "        if images_batch.numel() == 0: continue # Skip if batch is empty after filtering\n",
    "\n",
    "        images_batch = images_batch.cuda()\n",
    "        text_embeds_batch = text_embeds_batch.cuda()\n",
    "\n",
    "        loss = trainer(images_batch, text_embeds = text_embeds_batch, unet_number = unet_toTrain)\n",
    "        losses += loss\n",
    "        trainer.update(unet_number = unet_toTrain)\n",
    "        print(f\"Loss: {loss}\")"
   ]
  },
  {
   "cell_type": "code",
   "execution_count": null,
   "id": "77c5936a",
   "metadata": {},
   "outputs": [],
   "source": [
    "# Save the model\n",
    "trainer.save(using_checkpoint)"
   ]
  },
  {
   "cell_type": "code",
   "execution_count": null,
   "id": "bc3aae91",
   "metadata": {},
   "outputs": [],
   "source": [
    "# Manually clear the cache\n",
    "gc.collect()\n",
    "torch.cuda.empty_cache()"
   ]
  },
  {
   "cell_type": "code",
   "execution_count": null,
   "id": "cd5baa0f",
   "metadata": {},
   "outputs": [],
   "source": [
    "# Workflow code for less supervised training\n",
    "num_epochs_perRound = 120\n",
    "unet_toTrain = 2\n",
    "\n",
    "rounds = 2\n",
    "change_unet_afterRound = 1\n",
    "\n",
    "trainer = ImagenTrainer(imagen).cuda()\n",
    "\n",
    "rounds_scores = []\n",
    "\n",
    "for round in range(rounds):\n",
    "    if change_unet_afterRound == round:\n",
    "        unet_toTrain = 2\n",
    "    del trainer\n",
    "    gc.collect()\n",
    "    torch.cuda.empty_cache()\n",
    "    time.sleep(10)\n",
    "    imagen.train()\n",
    "    trainer = ImagenTrainer(imagen).cuda()\n",
    "    trainer.train()\n",
    "    clear_output()\n",
    "    \n",
    "    trainer.load(using_checkpoint)\n",
    "    clear_output()\n",
    "    losses = 0\n",
    "    round_losses = 0\n",
    "    for epoch in range(num_epochs_perRound):\n",
    "        clear_output()\n",
    "        print(f\"Round {round+1}, Epoch {epoch+1}/{num_epochs_perRound}, Training UNet {unet_toTrain}, Prev epoch avg loss: {losses/len(dataloader)}\")\n",
    "        losses = 0\n",
    "        for images_batch, text_embeds_batch in dataloader:\n",
    "            if images_batch.numel() == 0: continue\n",
    "\n",
    "            images_batch = images_batch.cuda()\n",
    "            text_embeds_batch = text_embeds_batch.cuda()\n",
    "\n",
    "            loss = trainer(images_batch, text_embeds = text_embeds_batch, unet_number = unet_toTrain)\n",
    "            losses += loss\n",
    "            trainer.update(unet_number = unet_toTrain)\n",
    "            print(f\"Loss: {loss}\")\n",
    "        round_losses += losses/len(dataloader)\n",
    "        if epoch == num_epochs_perRound - 1:\n",
    "            print(f\"Last epoch avg loss: {losses/len(dataloader)}\")\n",
    "    rounds_scores.append(round_losses/num_epochs_perRound)\n",
    "    trainer.save(using_checkpoint)\n",
    "\n",
    "clear_output()\n",
    "for i, score in enumerate(rounds_scores):\n",
    "    print(f\"Round {i+1} avg loss: {score}\")\n",
    "\n",
    "images = trainer.sample(texts = [\n",
    "    'two zebras in a field',\n",
    "    'two zebras in a zoo',\n",
    "    'the zebra is black and white'\n",
    "], cond_scale = 3.)\n",
    "\n",
    "import matplotlib.pyplot as plt\n",
    "import torchvision.utils as vutils\n",
    "\n",
    "images_cpu = images.cpu().detach()\n",
    "images_cpu = torch.clamp(images_cpu, 0, 1)\n",
    "grid = vutils.make_grid(images_cpu, nrow=len(images_cpu), padding=2, normalize=False)\n",
    "np_grid = grid.permute(1, 2, 0).numpy()\n",
    "\n",
    "plt.figure(figsize=(10, 5))\n",
    "plt.imshow(np_grid)\n",
    "plt.axis('off')\n",
    "plt.show()"
   ]
  },
  {
   "cell_type": "code",
   "execution_count": null,
   "id": "3f301926",
   "metadata": {},
   "outputs": [],
   "source": [
    "# Generate images\n",
    "\n",
    "images = trainer.sample(texts = [\n",
    "    'two zebras in a field',\n",
    "    'two zebras in a zoo',\n",
    "    'the zebra is black and white'\n",
    "], cond_scale = 3.)\n",
    "\n",
    "# Code for displaying the generated images\n",
    "\n",
    "import matplotlib.pyplot as plt\n",
    "import torchvision.utils as vutils\n",
    "\n",
    "# Move images tensor to CPU and detach from gradient computation\n",
    "images_cpu = images.cpu().detach()\n",
    "\n",
    "# If your images are normalized to [-1, 1], denormalize them to [0, 1]\n",
    "# images_cpu = (images_cpu + 1) / 2 # Uncomment if you used transforms.Normalize(...)\n",
    "\n",
    "# Clamp values to [0, 1] just in case\n",
    "images_cpu = torch.clamp(images_cpu, 0, 1)\n",
    "\n",
    "# Make a grid of images (rows = number of samples)\n",
    "grid = vutils.make_grid(images_cpu, nrow=len(images_cpu), padding=2, normalize=False) # normalize=False as we clamped\n",
    "\n",
    "# Convert grid tensor to numpy array and transpose dimensions for matplotlib\n",
    "# (C, H, W) -> (H, W, C)\n",
    "np_grid = grid.permute(1, 2, 0).numpy()\n",
    "\n",
    "# Display the grid\n",
    "plt.figure(figsize=(10, 5))\n",
    "plt.imshow(np_grid)\n",
    "plt.axis('off')\n",
    "plt.show()"
   ]
  }
 ],
 "metadata": {
  "kernelspec": {
   "display_name": "Python 3 (ipykernel)",
   "language": "python",
   "name": "python3"
  },
  "language_info": {
   "codemirror_mode": {
    "name": "ipython",
    "version": 3
   },
   "file_extension": ".py",
   "mimetype": "text/x-python",
   "name": "python",
   "nbconvert_exporter": "python",
   "pygments_lexer": "ipython3",
   "version": "3.11.11"
  }
 },
 "nbformat": 4,
 "nbformat_minor": 5
}
